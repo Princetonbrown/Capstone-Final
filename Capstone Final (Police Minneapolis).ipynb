{
 "cells": [
  {
   "cell_type": "markdown",
   "metadata": {},
   "source": [
    "# Buisness Problem"
   ]
  },
  {
   "cell_type": "markdown",
   "metadata": {},
   "source": [
    "Crime in the city of Minneapolis is destroying the ability for citizens to be contributing members of society, and increase our GDP. If we can identify which neighborhoods within the city of Minneapolis are most prone to police interference based on past data we could then reduce crime in these neighborhoods by installing recreational centers, or community watch. This intern could result in higher GDP for stakeholders of nearby companies. "
   ]
  },
  {
   "cell_type": "markdown",
   "metadata": {},
   "source": [
    "## The Question:"
   ]
  },
  {
   "cell_type": "markdown",
   "metadata": {},
   "source": [
    "What neighborhoods in Minneapolis, MN have the highest police involement and would benefit from more scommunity watch (and/or) recreational centers to reduce crime?"
   ]
  },
  {
   "cell_type": "markdown",
   "metadata": {},
   "source": [
    "# Data"
   ]
  },
  {
   "cell_type": "markdown",
   "metadata": {},
   "source": [
    "Data used will Neighborhood Crim Stats based on the city of minneapolis, data website link: https://opendata.minneapolismn.gov/datasets/neighborhood-crime-stats\n",
    "\n",
    "This data is perfect because it lists the neighborhood in which a particular crime took place as \"neighborhood,\" the type of crime that occured labeled as \" ucrDescription,\" and how many times that crime occured labeld as \"number.\"\n",
    "\n",
    "From this data we can identify which neighborhoods have the highest amount of crimes based on the number of crimes, as well as what neighborhoods have the most dangerous crimes based on description of crime. Once these neighborhoods are identified we can then make recomendations for funding community watch and recreational centers. "
   ]
  },
  {
   "cell_type": "code",
   "execution_count": null,
   "metadata": {},
   "outputs": [],
   "source": []
  }
 ],
 "metadata": {
  "kernelspec": {
   "display_name": "Python",
   "language": "python",
   "name": "conda-env-python-py"
  },
  "language_info": {
   "codemirror_mode": {
    "name": "ipython",
    "version": 3
   },
   "file_extension": ".py",
   "mimetype": "text/x-python",
   "name": "python",
   "nbconvert_exporter": "python",
   "pygments_lexer": "ipython3",
   "version": "3.6.11"
  }
 },
 "nbformat": 4,
 "nbformat_minor": 4
}
